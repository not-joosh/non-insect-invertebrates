{
 "cells": [
  {
   "cell_type": "markdown",
   "metadata": {},
   "source": [
    "# **CIFAR100 - Non-Insect Invertebrates Classification**"
   ]
  },
  {
   "cell_type": "markdown",
   "metadata": {},
   "source": [
    "## Importing the Necessary Modules"
   ]
  },
  {
   "cell_type": "code",
   "execution_count": null,
   "metadata": {},
   "outputs": [],
   "source": [
    "import numpy as np\n",
    "import matplotlib.pyplot as plt\n",
    "import tensorflow as tf"
   ]
  },
  {
   "cell_type": "code",
   "execution_count": null,
   "metadata": {},
   "outputs": [],
   "source": [
    "# Importing the Dataset\n",
    "# Coarse Class:   Non-insect invertebrates\t\n",
    "# Fine Class:     crab, lobster, snail, spider, worm\n",
    "# importing both the coarse and fine class\n",
    "\n",
    "# Coarse Class\n",
    "(X_C_train, y_C_train), (X_C_test, y_C_test) = tf.keras.datasets.cifar100.load_data(label_mode='coarse')\n",
    "# Fine Class\n",
    "(X_F_train, y_F_train), (X_F_test, y_F_test) = tf.keras.datasets.cifar100.load_data(label_mode='fine')"
   ]
  },
  {
   "cell_type": "code",
   "execution_count": null,
   "metadata": {},
   "outputs": [],
   "source": [
    "# Extracting index of fine labels\n",
    "\n",
    "fine_labels = [\n",
    "    'apple', 'aquarium_fish', 'baby', 'bear', 'beaver', 'bed', 'bee', 'beetle',\n",
    "    'bicycle', 'bottle', 'bowl', 'boy', 'bridge', 'bus', 'butterfly', 'camel',\n",
    "    'can', 'castle', 'caterpillar', 'cattle', 'chair', 'chimpanzee', 'clock',\n",
    "    'cloud', 'cockroach', 'couch', 'crab', 'crocodile', 'cup', 'dinosaur',\n",
    "    'dolphin', 'elephant', 'flatfish', 'forest', 'fox', 'girl', 'hamster',\n",
    "    'house', 'kangaroo', 'keyboard', 'lamp', 'lawn_mower', 'leopard', 'lion',\n",
    "    'lizard', 'lobster', 'man', 'maple_tree', 'motorcycle', 'mountain', 'mouse',\n",
    "    'mushroom', 'oak_tree', 'orange', 'orchid', 'otter', 'palm_tree', 'pear',\n",
    "    'pickup_truck', 'pine_tree', 'plain', 'plate', 'poppy', 'porcupine',\n",
    "    'possum', 'rabbit', 'raccoon', 'ray', 'road', 'rocket', 'rose',\n",
    "    'sea', 'seal', 'shark', 'shrew', 'skunk', 'skyscraper', 'snail',\n",
    "    'snake', 'spider', 'squirrel', 'streetcar', 'sunflower', 'sweet_pepper',\n",
    "    'table', 'tank', 'telephone', 'television', 'tiger', 'tractor', 'train',\n",
    "    'trout', 'tulip', 'turtle', 'wardrobe', 'whale', 'willow_tree', 'wolf',\n",
    "    'woman', 'worm'\n",
    "]\n",
    "\n",
    "labels_of_non_insect_invertebrates = []\n",
    "label_mapping = {}\n",
    "\n",
    "# Selecting non-insect invertebrates\n",
    "non_insect_invertebrates = ['crab', 'lobster', 'snail', 'spider', 'worm']\n",
    "print(\"Fine labels of Non-Insect Invertebrates:\")\n",
    "for i, name in enumerate(fine_labels):\n",
    "    if name in non_insect_invertebrates:\n",
    "        label_mapping[i] = non_insect_invertebrates.index(name)\n",
    "        labels_of_non_insect_invertebrates.append(i)\n",
    "\n",
    "# Extracting the non-insect invertebrates from the fine class\n",
    "fine_train_index = np.isin(y_F_train, labels_of_non_insect_invertebrates).reshape(X_F_train.shape[0])\n",
    "y_train = y_F_train[fine_train_index]\n",
    "\n",
    "fine_test_index = np.isin(y_F_test, labels_of_non_insect_invertebrates).reshape(X_F_test.shape[0])\n",
    "y_test = y_F_test[fine_test_index]\n",
    "\n",
    "# Setting to 0-4\n",
    "y_train = np.vectorize(label_mapping.get)(y_train)\n",
    "y_test = np.vectorize(label_mapping.get)(y_test)\n",
    "\n",
    "# Normalizing the data\n",
    "X_train = X_F_train[fine_train_index] / 255\n",
    "X_test = X_F_test[fine_test_index] / 255\n"
   ]
  },
  {
   "cell_type": "code",
   "execution_count": null,
   "metadata": {},
   "outputs": [],
   "source": [
    "def display_images(X_train, y_train, non_insect_invertebrates):\n",
    "    plt.figure(figsize=(10, 10))\n",
    "    for i in range(25):\n",
    "        plt.subplot(5, 5, i + 1)\n",
    "        plt.xticks([])\n",
    "        plt.yticks([])\n",
    "        plt.grid(False)\n",
    "        plt.imshow(X_train[i], cmap=plt.cm.binary)\n",
    "        plt.xlabel(non_insect_invertebrates[int(y_train[i])])  # Convert y_train[i] to int\n",
    "    plt.show()\n",
    "\n",
    "display_images(X_train, y_train, non_insect_invertebrates)"
   ]
  },
  {
   "cell_type": "code",
   "execution_count": null,
   "metadata": {},
   "outputs": [],
   "source": [
    "# Training the model\n",
    "model = tf.keras.Sequential([\n",
    "    tf.keras.layers.Conv2D(32, (3, 3), activation='relu', input_shape=(32, 32, 3)),\n",
    "    tf.keras.layers.MaxPooling2D((2, 2)),\n",
    "\n",
    "    tf.keras.layers.Conv2D(64, (3, 3), activation='relu'),\n",
    "    tf.keras.layers.MaxPooling2D((2, 2)),\n",
    "    \n",
    "    tf.keras.layers.Conv2D(64, (3, 3), activation='relu'),\n",
    "    tf.keras.layers.Flatten(),\n",
    "    tf.keras.layers.Dense(64, activation='relu'),\n",
    "    tf.keras.layers.Dense(5)\n",
    "])\n",
    "\n",
    "model.compile(optimizer='adam', loss=tf.keras.losses.SparseCategoricalCrossentropy(from_logits=True), metrics=['accuracy'])\n",
    "\n",
    "model.summary()\n",
    "\n",
    "# Evaluating the model\n",
    "model_eval = model.fit(X_train, y_train, epochs=10, validation_data=(X_test, y_test))"
   ]
  },
  {
   "cell_type": "code",
   "execution_count": null,
   "metadata": {},
   "outputs": [],
   "source": [
    "def display_images_with_label(X_test, y_test, non_insect_invertebrates, model):\n",
    "    plt.figure(figsize=(10, 10))\n",
    "    for i in range(25):\n",
    "        plt.subplot(5, 5, i + 1)\n",
    "        plt.xticks([])\n",
    "        plt.yticks([])\n",
    "        plt.grid(False)\n",
    "        plt.imshow(X_test[i], cmap=plt.cm.binary)\n",
    "        prediction = model.predict(X_test)\n",
    "        plt.xlabel(non_insect_invertebrates[int(y_test[i])], color='black')  # Convert y_test[i] to int\n",
    "        title_color = 'green' if np.argmax(prediction[i]) == y_test[i] else 'red'\n",
    "        plt.title(non_insect_invertebrates[np.argmax(prediction[i])], color=title_color)\n",
    "    plt.tight_layout()  # Add this line to fix overlapping text\n",
    "    plt.show()\n",
    "\n",
    "display_images_with_label(X_test, y_test, non_insect_invertebrates, model)\n"
   ]
  },
  {
   "cell_type": "code",
   "execution_count": null,
   "metadata": {},
   "outputs": [],
   "source": [
    "# Printing metrics classification report\n",
    "from sklearn.metrics import classification_report\n",
    "y_pred = np.argmax(model.predict(X_test), axis=-1)\n",
    "print(classification_report(y_test, y_pred, target_names=non_insect_invertebrates))\n"
   ]
  }
 ],
 "metadata": {
  "language_info": {
   "name": "python"
  }
 },
 "nbformat": 4,
 "nbformat_minor": 2
}
